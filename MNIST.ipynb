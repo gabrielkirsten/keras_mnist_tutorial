{
  "nbformat": 4,
  "nbformat_minor": 0,
  "metadata": {
    "colab": {
      "name": "MNIST.ipynb",
      "version": "0.3.2",
      "provenance": [],
      "include_colab_link": true
    },
    "kernelspec": {
      "name": "python3",
      "display_name": "Python 3"
    }
  },
  "cells": [
    {
      "cell_type": "markdown",
      "metadata": {
        "id": "view-in-github",
        "colab_type": "text"
      },
      "source": [
        "<a href=\"https://colab.research.google.com/github/gabrielkirsten/keras_mnist_tutorial/blob/master/MNIST.ipynb\" target=\"_parent\"><img src=\"https://colab.research.google.com/assets/colab-badge.svg\" alt=\"Open In Colab\"/></a>"
      ]
    },
    {
      "cell_type": "markdown",
      "metadata": {
        "id": "xyvTi7j5hoER",
        "colab_type": "text"
      },
      "source": [
        "## Importação do Tensorflow"
      ]
    },
    {
      "cell_type": "code",
      "metadata": {
        "id": "zaxxZEq8hhK5",
        "colab_type": "code",
        "colab": {}
      },
      "source": [
        "import tensorflow as tf"
      ],
      "execution_count": 0,
      "outputs": []
    },
    {
      "cell_type": "markdown",
      "metadata": {
        "id": "uq7-ZQ-Lhuf3",
        "colab_type": "text"
      },
      "source": [
        "## Importação do Keras"
      ]
    },
    {
      "cell_type": "code",
      "metadata": {
        "id": "RHJOOH1ThwFv",
        "colab_type": "code",
        "outputId": "181f962f-4a1a-4ab6-bbe7-5ca913949c04",
        "colab": {
          "base_uri": "https://localhost:8080/",
          "height": 34
        }
      },
      "source": [
        "import keras"
      ],
      "execution_count": 0,
      "outputs": [
        {
          "output_type": "stream",
          "text": [
            "Using TensorFlow backend.\n"
          ],
          "name": "stderr"
        }
      ]
    },
    {
      "cell_type": "code",
      "metadata": {
        "id": "W5zJgCiWh1LW",
        "colab_type": "code",
        "colab": {}
      },
      "source": [
        "from keras.datasets import mnist # Importação do dataset"
      ],
      "execution_count": 0,
      "outputs": []
    },
    {
      "cell_type": "markdown",
      "metadata": {
        "id": "_9yfZPtjiCFd",
        "colab_type": "text"
      },
      "source": [
        "##Exibir um exemplo do dataset MNIST"
      ]
    },
    {
      "cell_type": "code",
      "metadata": {
        "id": "6pEMdMFkiIvR",
        "colab_type": "code",
        "outputId": "f63d572c-adf3-478d-f5ec-4da055423af3",
        "colab": {
          "base_uri": "https://localhost:8080/",
          "height": 354
        }
      },
      "source": [
        "from matplotlib import pyplot as plt\n",
        "(X_train, y_train), (X_test, y_test) = mnist.load_data()\n",
        "\n",
        "print(\"X train: \", X_train.shape)\n",
        "print(\"y train: \", y_train.shape)\n",
        "print(\"X test: \", X_test.shape)\n",
        "print(\"y test: \", y_test.shape)\n",
        "\n",
        "plt.imshow(X_train[0])"
      ],
      "execution_count": 0,
      "outputs": [
        {
          "output_type": "stream",
          "text": [
            "X train:  (60000, 28, 28)\n",
            "y train:  (60000,)\n",
            "X test:  (10000, 28, 28)\n",
            "y test:  (10000,)\n"
          ],
          "name": "stdout"
        },
        {
          "output_type": "execute_result",
          "data": {
            "text/plain": [
              "<matplotlib.image.AxesImage at 0x7f1b83b02ef0>"
            ]
          },
          "metadata": {
            "tags": []
          },
          "execution_count": 7
        },
        {
          "output_type": "display_data",
          "data": {
            "image/png": "[encoded data removed]",
            "text/plain": [
              "<Figure size 432x288 with 1 Axes>"
            ]
          },
          "metadata": {
            "tags": []
          }
        }
      ]
    },
    {
      "cell_type": "markdown",
      "metadata": {
        "id": "yMMF6J_2jQtd",
        "colab_type": "text"
      },
      "source": [
        "##  Criando o modelo"
      ]
    },
    {
      "cell_type": "code",
      "metadata": {
        "id": "d5UbwYRFjTxk",
        "colab_type": "code",
        "colab": {}
      },
      "source": [
        "from keras.models import Sequential\n",
        "from keras.layers import Dense, Flatten\n",
        "\n",
        "model = Sequential([\n",
        "    Flatten(input_shape=(28,28)),\n",
        "    Dense(128, activation=tf.nn.relu),\n",
        "    Dense(10, activation=tf.nn.softmax)\n",
        "])"
      ],
      "execution_count": 0,
      "outputs": []
    },
    {
      "cell_type": "markdown",
      "metadata": {
        "id": "ypgGkS5YkWP5",
        "colab_type": "text"
      },
      "source": [
        "## Compilando o modelo"
      ]
    },
    {
      "cell_type": "code",
      "metadata": {
        "id": "qpSkQkOnkZOf",
        "colab_type": "code",
        "outputId": "433da2ff-9a31-4f79-f6e7-6f565c2c570d",
        "colab": {
          "base_uri": "https://localhost:8080/",
          "height": 105
        }
      },
      "source": [
        "model.compile(optimizer='adam',\n",
        "             loss='sparse_categorical_crossentropy',\n",
        "             metrics=['accuracy'])"
      ],
      "execution_count": 0,
      "outputs": [
        {
          "output_type": "stream",
          "text": [
            "W0713 18:23:04.360588 139757114374016 deprecation_wrapper.py:119] From /usr/local/lib/python3.6/dist-packages/keras/optimizers.py:790: The name tf.train.Optimizer is deprecated. Please use tf.compat.v1.train.Optimizer instead.\n",
            "\n",
            "W0713 18:23:04.403806 139757114374016 deprecation_wrapper.py:119] From /usr/local/lib/python3.6/dist-packages/keras/backend/tensorflow_backend.py:3341: The name tf.log is deprecated. Please use tf.math.log instead.\n",
            "\n"
          ],
          "name": "stderr"
        }
      ]
    },
    {
      "cell_type": "markdown",
      "metadata": {
        "id": "tO3pYj7akxit",
        "colab_type": "text"
      },
      "source": [
        "## Treinando a rede"
      ]
    },
    {
      "cell_type": "code",
      "metadata": {
        "id": "wKNG4upnkzgd",
        "colab_type": "code",
        "outputId": "af9e11a8-210b-4d4a-f432-067c4b97dd76",
        "colab": {
          "base_uri": "https://localhost:8080/",
          "height": 649
        }
      },
      "source": [
        "model.fit(X_train, y_train, epochs=15)"
      ],
      "execution_count": 0,
      "outputs": [
        {
          "output_type": "stream",
          "text": [
            "W0713 18:24:12.633932 139757114374016 deprecation.py:323] From /usr/local/lib/python3.6/dist-packages/tensorflow/python/ops/math_grad.py:1250: add_dispatch_support.<locals>.wrapper (from tensorflow.python.ops.array_ops) is deprecated and will be removed in a future version.\n",
            "Instructions for updating:\n",
            "Use tf.where in 2.0, which has the same broadcast rule as np.where\n",
            "W0713 18:24:12.667778 139757114374016 deprecation_wrapper.py:119] From /usr/local/lib/python3.6/dist-packages/keras/backend/tensorflow_backend.py:986: The name tf.assign_add is deprecated. Please use tf.compat.v1.assign_add instead.\n",
            "\n"
          ],
          "name": "stderr"
        },
        {
          "output_type": "stream",
          "text": [
            "Epoch 1/15\n",
            "60000/60000 [==============================] - 8s 140us/step - loss: 10.0632 - acc: 0.3747\n",
            "Epoch 2/15\n",
            "60000/60000 [==============================] - 8s 136us/step - loss: 9.8283 - acc: 0.3899\n",
            "Epoch 3/15\n",
            "60000/60000 [==============================] - 8s 133us/step - loss: 9.6661 - acc: 0.4001\n",
            "Epoch 4/15\n",
            "60000/60000 [==============================] - 8s 137us/step - loss: 8.6034 - acc: 0.4659\n",
            "Epoch 5/15\n",
            "60000/60000 [==============================] - 8s 136us/step - loss: 7.3570 - acc: 0.5433\n",
            "Epoch 6/15\n",
            "60000/60000 [==============================] - 8s 136us/step - loss: 7.1387 - acc: 0.5568\n",
            "Epoch 7/15\n",
            "60000/60000 [==============================] - 8s 136us/step - loss: 7.0721 - acc: 0.5610\n",
            "Epoch 8/15\n",
            "60000/60000 [==============================] - 9s 142us/step - loss: 6.8503 - acc: 0.5747\n",
            "Epoch 9/15\n",
            "60000/60000 [==============================] - 8s 140us/step - loss: 7.0318 - acc: 0.5636\n",
            "Epoch 10/15\n",
            "60000/60000 [==============================] - 8s 135us/step - loss: 6.8208 - acc: 0.5766\n",
            "Epoch 11/15\n",
            "60000/60000 [==============================] - 8s 135us/step - loss: 6.7835 - acc: 0.5790\n",
            "Epoch 12/15\n",
            "60000/60000 [==============================] - 8s 134us/step - loss: 6.9072 - acc: 0.5712\n",
            "Epoch 13/15\n",
            "60000/60000 [==============================] - 8s 135us/step - loss: 6.8922 - acc: 0.5723\n",
            "Epoch 14/15\n",
            "60000/60000 [==============================] - 8s 134us/step - loss: 6.9292 - acc: 0.5700\n",
            "Epoch 15/15\n",
            "60000/60000 [==============================] - 8s 134us/step - loss: 6.8649 - acc: 0.5740\n"
          ],
          "name": "stdout"
        },
        {
          "output_type": "execute_result",
          "data": {
            "text/plain": [
              "<keras.callbacks.History at 0x7f1b81259b70>"
            ]
          },
          "metadata": {
            "tags": []
          },
          "execution_count": 13
        }
      ]
    },
    {
      "cell_type": "markdown",
      "metadata": {
        "id": "Fvju5ZR_ljOb",
        "colab_type": "text"
      },
      "source": [
        "## Avaliando o modelo"
      ]
    },
    {
      "cell_type": "code",
      "metadata": {
        "id": "e1AO939Zlls6",
        "colab_type": "code",
        "colab": {}
      },
      "source": [
        "import numpy as np\n",
        "\n",
        "class_names = [\"0\", \"1\", \"2\", \"3\", \"4\", \"5\", \"6\", \"7\", \"8\", \"9\"]"
      ],
      "execution_count": 0,
      "outputs": []
    },
    {
      "cell_type": "code",
      "metadata": {
        "id": "IkhV0KQ1mCtH",
        "colab_type": "code",
        "colab": {}
      },
      "source": [
        "predictions = model.predict(X_test) # realiza as predições no conjunto de teste"
      ],
      "execution_count": 0,
      "outputs": []
    },
    {
      "cell_type": "code",
      "metadata": {
        "id": "cX3zStEDmMEd",
        "colab_type": "code",
        "colab": {}
      },
      "source": [
        "# Funções para plotar os resultados\n",
        "\n",
        "def plot_image(i, predictions_array, true_label, img):\n",
        "  predictions_array, true_label, img = predictions_array[i], true_label[i], img[i]\n",
        "  plt.grid(False)\n",
        "  plt.xticks([])\n",
        "  plt.yticks([])\n",
        "  \n",
        "  plt.imshow(img, cmap=plt.cm.binary)\n",
        "  \n",
        "  predicted_label = np.argmax(predictions_array)\n",
        "  if predicted_label == true_label:\n",
        "    color = 'blue'\n",
        "  else:\n",
        "    color = 'red'\n",
        "  \n",
        "  plt.xlabel(\"{} {:2.0f}% ({})\".format(class_names[predicted_label],\n",
        "                                100*np.max(predictions_array),\n",
        "                                class_names[true_label]),\n",
        "                                color=color)\n",
        "\n",
        "def plot_value_array(i, predictions_array, true_label):\n",
        "  predictions_array, true_label = predictions_array[i], true_label[i]\n",
        "  plt.grid(False)\n",
        "  plt.xticks([])\n",
        "  plt.yticks([])\n",
        "  thisplot = plt.bar(range(10), predictions_array, color=\"#777777\")\n",
        "  plt.ylim([0, 1])\n",
        "  predicted_label = np.argmax(predictions_array)\n",
        "  \n",
        "  thisplot[predicted_label].set_color('red')\n",
        "  thisplot[true_label].set_color('blue')"
      ],
      "execution_count": 0,
      "outputs": []
    },
    {
      "cell_type": "code",
      "metadata": {
        "id": "RZ-nY6mrmPKV",
        "colab_type": "code",
        "outputId": "118beb38-219b-42f8-ec12-7f3c80729139",
        "colab": {
          "base_uri": "https://localhost:8080/",
          "height": 206
        }
      },
      "source": [
        "i = 0\n",
        "plt.figure(figsize=(6,3))\n",
        "plt.subplot(1,2,1)\n",
        "plot_image(i, predictions, y_test, X_test)\n",
        "plt.subplot(1,2,2)\n",
        "plot_value_array(i, predictions,  y_test)\n",
        "plt.show()"
      ],
      "execution_count": 0,
      "outputs": [
        {
          "output_type": "display_data",
          "data": {
            "image/png": "[encoded data removed]",
            "text/plain": [
              "<Figure size 432x216 with 2 Axes>"
            ]
          },
          "metadata": {
            "tags": []
          }
        }
      ]
    },
    {
      "cell_type": "code",
      "metadata": {
        "id": "kTEslsGSmasS",
        "colab_type": "code",
        "outputId": "8abf3752-fc38-4f33-b5b7-4acf51e9bdc0",
        "colab": {
          "base_uri": "https://localhost:8080/",
          "height": 592
        }
      },
      "source": [
        "num_rows = 5\n",
        "num_cols = 3\n",
        "num_images = num_rows*num_cols\n",
        "plt.figure(figsize=(2*2*num_cols, 2*num_rows))\n",
        "for i in range(num_images):\n",
        "  plt.subplot(num_rows, 2*num_cols, 2*i+1)\n",
        "  plot_image(i, predictions, y_test, X_test)\n",
        "  plt.subplot(num_rows, 2*num_cols, 2*i+2)\n",
        "  plot_value_array(i, predictions, y_test)\n",
        "plt.show()"
      ],
      "execution_count": 0,
      "outputs": [
        {
          "output_type": "display_data",
          "data": {
            "image/png": "[encoded data removed]",
            "text/plain": [
              "<Figure size 864x720 with 30 Axes>"
            ]
          },
          "metadata": {
            "tags": []
          }
        }
      ]
    }
  ]
}